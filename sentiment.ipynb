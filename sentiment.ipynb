{
 "cells": [
  {
   "cell_type": "code",
   "execution_count": 1,
   "metadata": {},
   "outputs": [],
   "source": [
    "import pandas as pd\n",
    "import numpy as np\n",
    "import matplotlib.pyplot as plt\n",
    "from sklearn.ensemble import RandomForestClassifier\n",
    "from sklearn.linear_model import LogisticRegression\n",
    "from sklearn.tree import DecisionTreeClassifier\n",
    "from sklearn.neighbors import KNeighborsClassifier\n",
    "from sklearn.svm import SVC\n",
    "from sklearn.feature_extraction.text import TfidfVectorizer\n",
    "from sklearn.model_selection import train_test_split"
   ]
  },
  {
   "cell_type": "code",
   "execution_count": 2,
   "metadata": {},
   "outputs": [
    {
     "data": {
      "text/html": [
       "<div>\n",
       "<style scoped>\n",
       "    .dataframe tbody tr th:only-of-type {\n",
       "        vertical-align: middle;\n",
       "    }\n",
       "\n",
       "    .dataframe tbody tr th {\n",
       "        vertical-align: top;\n",
       "    }\n",
       "\n",
       "    .dataframe thead th {\n",
       "        text-align: right;\n",
       "    }\n",
       "</style>\n",
       "<table border=\"1\" class=\"dataframe\">\n",
       "  <thead>\n",
       "    <tr style=\"text-align: right;\">\n",
       "      <th></th>\n",
       "      <th>product</th>\n",
       "      <th>answer_option</th>\n",
       "      <th>label</th>\n",
       "    </tr>\n",
       "  </thead>\n",
       "  <tbody>\n",
       "    <tr>\n",
       "      <th>0</th>\n",
       "      <td>Accucheck</td>\n",
       "      <td>Fast and accurate delivery</td>\n",
       "      <td>0</td>\n",
       "    </tr>\n",
       "    <tr>\n",
       "      <th>1</th>\n",
       "      <td>Accucheck</td>\n",
       "      <td>As usual it is genuine</td>\n",
       "      <td>0</td>\n",
       "    </tr>\n",
       "    <tr>\n",
       "      <th>2</th>\n",
       "      <td>Accucheck</td>\n",
       "      <td>Behavior of delivery boy is very bad. Delivery...</td>\n",
       "      <td>0</td>\n",
       "    </tr>\n",
       "    <tr>\n",
       "      <th>3</th>\n",
       "      <td>Accucheck</td>\n",
       "      <td>fwegwrqdsdvwfg</td>\n",
       "      <td>0</td>\n",
       "    </tr>\n",
       "    <tr>\n",
       "      <th>4</th>\n",
       "      <td>Accucheck</td>\n",
       "      <td>These strips were as per my requirment</td>\n",
       "      <td>0</td>\n",
       "    </tr>\n",
       "  </tbody>\n",
       "</table>\n",
       "</div>"
      ],
      "text/plain": [
       "     product                                      answer_option  label\n",
       "0  Accucheck                         Fast and accurate delivery      0\n",
       "1  Accucheck                            As usual it is genuine       0\n",
       "2  Accucheck  Behavior of delivery boy is very bad. Delivery...      0\n",
       "3  Accucheck                                     fwegwrqdsdvwfg      0\n",
       "4  Accucheck             These strips were as per my requirment      0"
      ]
     },
     "execution_count": 2,
     "metadata": {},
     "output_type": "execute_result"
    }
   ],
   "source": [
    "df = pd.read_csv('train.csv')\n",
    "df.head(5)"
   ]
  },
  {
   "cell_type": "code",
   "execution_count": 3,
   "metadata": {},
   "outputs": [
    {
     "data": {
      "image/png": "[encoded data removed]",
      "text/plain": [
       "<Figure size 432x288 with 1 Axes>"
      ]
     },
     "metadata": {
      "needs_background": "light"
     },
     "output_type": "display_data"
    }
   ],
   "source": [
    "df['label'].value_counts().plot(kind='bar');\n",
    "plt.title('count of labels')\n",
    "plt.xlabel('Label')\n",
    "plt.ylabel('count');"
   ]
  },
  {
   "cell_type": "code",
   "execution_count": 7,
   "metadata": {},
   "outputs": [],
   "source": [
    "import nltk\n",
    "from nltk.corpus import stopwords\n",
    "from nltk.stem import WordNetLemmatizer\n",
    "import re\n",
    "from string import punctuation"
   ]
  },
  {
   "cell_type": "code",
   "execution_count": 10,
   "metadata": {},
   "outputs": [],
   "source": [
    "stop_words = stopwords.words(\"english\")"
   ]
  },
  {
   "cell_type": "code",
   "execution_count": 11,
   "metadata": {},
   "outputs": [],
   "source": [
    "#clean the dataset\n",
    "\n",
    "def cleaning_text(text, remove_stop_words=True, lemmatize_words=True):\n",
    "    # Clean the text, with the option to remove stop_words and to lemmatize word\n",
    " \n",
    "    # Clean the text\n",
    "    text = re.sub(r\"[^A-Za-z0-9]\", \" \", text)\n",
    "    text = re.sub(r\"\\'s\", \" \", text)\n",
    "    text = re.sub(r\"http\\S+\", \" link \", text)\n",
    "    text = re.sub(r\"\\b\\d+(?:\\.\\d+)?\\s+\", \"\", text)  # remove numbers\n",
    "    text = text.lower()\n",
    " \n",
    "    # Remove punctuation from text\n",
    "    text = \"\".join([c for c in text if c not in punctuation])\n",
    " \n",
    "    # Optionally, remove stop words\n",
    "    if remove_stop_words:\n",
    "        text = text.split()\n",
    "        text = [w for w in text if not w in stop_words]\n",
    "        text = \" \".join(text)\n",
    " \n",
    "    # Optionally, shorten words to their stems\n",
    "    if lemmatize_words:\n",
    "        text = text.split()\n",
    "        lemmatizer = WordNetLemmatizer()\n",
    "        lemmatized_words = [lemmatizer.lemmatize(word) for word in text]\n",
    "        text = \" \".join(lemmatized_words)\n",
    " \n",
    "    # Return a list of words\n",
    "    return text"
   ]
  },
  {
   "cell_type": "code",
   "execution_count": 12,
   "metadata": {},
   "outputs": [],
   "source": [
    "df['answer_option'] = df['answer_option'].apply(cleaning_text)"
   ]
  },
  {
   "cell_type": "code",
   "execution_count": 14,
   "metadata": {},
   "outputs": [],
   "source": [
    "tf = TfidfVectorizer()\n",
    "x = tf.fit_transform(df['answer_option'])\n",
    "y = df.label"
   ]
  },
  {
   "cell_type": "code",
   "execution_count": 16,
   "metadata": {},
   "outputs": [],
   "source": [
    "x_train, x_test, y_train, y_test = train_test_split(x, y, test_size=0.2)"
   ]
  },
  {
   "cell_type": "code",
   "execution_count": 38,
   "metadata": {},
   "outputs": [],
   "source": [
    "# create models\n",
    "# lg_model = LogisticRegression(n_jobs=-1)\n",
    "# rf_model = RandomForestClassifier(n_jobs=-1)\n",
    "# dt_model = DecisionTreeClassifier(n_jobs=-1)\n",
    "# kn_model = KNeighborsClassifier(n_jobs=-1)\n",
    "# svc_model = SVCr(n_jobs=-1)\n",
    "\n",
    "# model_lists = [lg_model, rf_model, dt_model, kn_model, svc_model]\n",
    "\n",
    "# #fitting the models\n",
    "# for model in model_lists:\n",
    "#     print(\"Model name: {}\".format(model))\n",
    "#     print(\"*\" * 50)\n",
    "#     skf = StratifiedKFold(n_splits=3, random_state=None, shuffle=True)\n",
    "#     for train_index, test_index in skf.split(X_res, y_res):\n",
    "#         X_train, X_test = X_res[train_index], X_res[test_index]\n",
    "#         y_train, y_test = y_res[train_index], y_res[test_index]\n",
    "\n",
    "#         #train model\n",
    "#         model.fit(X_train, y_train)\n",
    "#         y_preds = model.predict(X_test)\n",
    "#         score = accuracy_score(y_preds, y_test)\n",
    "#         print(\"Accuracy score:{}\".format(score))\n",
    "#     print(\"*\" * 50)"
   ]
  },
  {
   "cell_type": "code",
   "execution_count": 17,
   "metadata": {},
   "outputs": [],
   "source": [
    "from sklearn.metrics import f1_score, accuracy_score"
   ]
  },
  {
   "cell_type": "markdown",
   "metadata": {},
   "source": [
    "## Building model with unbalanced dataset"
   ]
  },
  {
   "cell_type": "markdown",
   "metadata": {},
   "source": [
    "### Random Forest"
   ]
  },
  {
   "cell_type": "code",
   "execution_count": 18,
   "metadata": {},
   "outputs": [],
   "source": [
    "# building random forest model\n",
    "rand = RandomForestClassifier()\n",
    "rand.fit(x_train, y_train)\n",
    "rand_pred = rand.predict(x_test)"
   ]
  },
  {
   "cell_type": "code",
   "execution_count": 19,
   "metadata": {},
   "outputs": [
    {
     "name": "stdout",
     "output_type": "stream",
     "text": [
      "f1 score = 78.07076950861119%\n",
      "Accuracy score = 79.16666666666666%\n"
     ]
    }
   ],
   "source": [
    "# checking accuracy score and f1 score\n",
    "print(f\"f1 score = {f1_score(y_test, rand_pred, average='weighted')*100}%\")\n",
    "print(f\"Accuracy score = {accuracy_score(y_test, rand_pred)*100}%\")"
   ]
  },
  {
   "cell_type": "markdown",
   "metadata": {},
   "source": [
    "### Logistic Regression"
   ]
  },
  {
   "cell_type": "code",
   "execution_count": 20,
   "metadata": {},
   "outputs": [],
   "source": [
    "log = LogisticRegression()\n",
    "log.fit(x_train, y_train)\n",
    "log_pred = log.predict(x_test)"
   ]
  },
  {
   "cell_type": "code",
   "execution_count": 21,
   "metadata": {},
   "outputs": [
    {
     "name": "stdout",
     "output_type": "stream",
     "text": [
      "f1 score = 77.77955871700387%\n",
      "Accuracy score = 80.05952380952381%\n"
     ]
    }
   ],
   "source": [
    "# checking accuracy score and f1 score\n",
    "print(f\"f1 score = {f1_score(y_test, log_pred, average='weighted')*100}%\")\n",
    "print(f\"Accuracy score = {accuracy_score(y_test, log_pred)*100}%\")"
   ]
  },
  {
   "cell_type": "markdown",
   "metadata": {},
   "source": [
    "### KNeighbors Classifier"
   ]
  },
  {
   "cell_type": "code",
   "execution_count": 22,
   "metadata": {},
   "outputs": [],
   "source": [
    "kn = KNeighborsClassifier()\n",
    "kn.fit(x_train, y_train)\n",
    "kn_pred = kn.predict(x_test)"
   ]
  },
  {
   "cell_type": "code",
   "execution_count": 23,
   "metadata": {},
   "outputs": [
    {
     "name": "stdout",
     "output_type": "stream",
     "text": [
      "f1 score = 70.9673713235294%\n",
      "Accuracy score = 75.0%\n"
     ]
    }
   ],
   "source": [
    "# checking accuracy score and f1 score\n",
    "print(f\"f1 score = {f1_score(y_test, kn_pred, average='weighted')*100}%\")\n",
    "print(f\"Accuracy score = {accuracy_score(y_test, kn_pred)*100}%\")"
   ]
  },
  {
   "cell_type": "markdown",
   "metadata": {},
   "source": [
    "### Support Vector"
   ]
  },
  {
   "cell_type": "code",
   "execution_count": 24,
   "metadata": {},
   "outputs": [],
   "source": [
    "sv = SVC()\n",
    "sv.fit(x_train, y_train)\n",
    "sv_pred = sv.predict(x_test)"
   ]
  },
  {
   "cell_type": "code",
   "execution_count": 25,
   "metadata": {},
   "outputs": [
    {
     "name": "stdout",
     "output_type": "stream",
     "text": [
      "f1 score = 77.1956981106249%\n",
      "Accuracy score = 78.86904761904762%\n"
     ]
    }
   ],
   "source": [
    "# checking accuracy score and f1 score\n",
    "print(f\"f1 score = {f1_score(y_test, sv_pred, average='weighted')*100}%\")\n",
    "print(f\"Accuracy score = {accuracy_score(y_test, sv_pred)*100}%\")"
   ]
  },
  {
   "cell_type": "markdown",
   "metadata": {},
   "source": [
    "## Balanced dataset\n",
    "\n",
    "Let us balance the dataset using SMOTE "
   ]
  },
  {
   "cell_type": "code",
   "execution_count": 26,
   "metadata": {},
   "outputs": [],
   "source": [
    "from imblearn.over_sampling import SMOTE\n",
    "\n",
    "smote = SMOTE()\n",
    "x_res, y_res = smote.fit_resample(x,y)"
   ]
  },
  {
   "cell_type": "code",
   "execution_count": 29,
   "metadata": {},
   "outputs": [
    {
     "data": {
      "image/png": "[encoded data removed]",
      "text/plain": [
       "<Figure size 432x288 with 1 Axes>"
      ]
     },
     "metadata": {
      "needs_background": "light"
     },
     "output_type": "display_data"
    }
   ],
   "source": [
    "y_res.value_counts().plot(kind='bar');"
   ]
  },
  {
   "cell_type": "code",
   "execution_count": 30,
   "metadata": {},
   "outputs": [],
   "source": [
    "x_train_ , x_test_ , y_train_, y_test_ = train_test_split(x_res, y_res, test_size=0.2)"
   ]
  },
  {
   "cell_type": "code",
   "execution_count": 31,
   "metadata": {},
   "outputs": [],
   "source": [
    "rand_b = RandomForestClassifier()\n",
    "rand_b.fit(x_train_, y_train_)\n",
    "rand_pred_ = rand_b.predict(x_test_)"
   ]
  },
  {
   "cell_type": "code",
   "execution_count": 32,
   "metadata": {},
   "outputs": [
    {
     "name": "stdout",
     "output_type": "stream",
     "text": [
      "f1 score = 87.43686149427597%\n",
      "Accuracy score = 87.44680851063829%\n"
     ]
    }
   ],
   "source": [
    "# checking accuracy score and f1 score\n",
    "print(f\"f1 score = {f1_score(y_test_, rand_pred_, average='weighted')*100}%\")\n",
    "print(f\"Accuracy score = {accuracy_score(y_test_, rand_pred_)*100}%\")"
   ]
  },
  {
   "cell_type": "code",
   "execution_count": 33,
   "metadata": {},
   "outputs": [],
   "source": [
    "log_b = LogisticRegression()\n",
    "log_b.fit(x_train_, y_train_)\n",
    "log_pred_ = log_b.predict(x_test_)"
   ]
  },
  {
   "cell_type": "code",
   "execution_count": 34,
   "metadata": {},
   "outputs": [
    {
     "name": "stdout",
     "output_type": "stream",
     "text": [
      "f1 score = 85.31788620446832%\n",
      "Accuracy score = 85.31914893617021%\n"
     ]
    }
   ],
   "source": [
    "# checking accuracy score and f1 score\n",
    "print(f\"f1 score = {f1_score(y_test_, log_pred_, average='weighted')*100}%\")\n",
    "print(f\"Accuracy score = {accuracy_score(y_test_, log_pred_)*100}%\")"
   ]
  },
  {
   "cell_type": "code",
   "execution_count": 35,
   "metadata": {},
   "outputs": [],
   "source": [
    "kn_b = KNeighborsClassifier()\n",
    "kn_b.fit(x_train_, y_train_)\n",
    "kn_pred_ = kn_b.predict(x_test_)"
   ]
  },
  {
   "cell_type": "code",
   "execution_count": 36,
   "metadata": {},
   "outputs": [
    {
     "name": "stdout",
     "output_type": "stream",
     "text": [
      "f1 score = 76.91601391918277%\n",
      "Accuracy score = 77.23404255319149%\n"
     ]
    }
   ],
   "source": [
    "# checking accuracy score and f1 score\n",
    "print(f\"f1 score = {f1_score(y_test_, kn_pred_, average='weighted')*100}%\")\n",
    "print(f\"Accuracy score = {accuracy_score(y_test_, kn_pred_)*100}%\")"
   ]
  },
  {
   "cell_type": "code",
   "execution_count": 37,
   "metadata": {},
   "outputs": [],
   "source": [
    "sv_b = SVC()\n",
    "sv_b.fit(x_train, y_train)\n",
    "sv_pred = sv_b.predict(x_test_)"
   ]
  },
  {
   "cell_type": "code",
   "execution_count": 38,
   "metadata": {},
   "outputs": [
    {
     "name": "stdout",
     "output_type": "stream",
     "text": [
      "f1 score = 86.00460963282912%\n",
      "Accuracy score = 86.17021276595744%\n"
     ]
    }
   ],
   "source": [
    "# checking accuracy score and f1 score\n",
    "print(f\"f1 score = {f1_score(y_test_, sv_pred, average='weighted')*100}%\")\n",
    "print(f\"Accuracy score = {accuracy_score(y_test_, sv_pred)*100}%\")"
   ]
  },
  {
   "cell_type": "markdown",
   "metadata": {},
   "source": [
    "## hyper parameter tuning"
   ]
  },
  {
   "cell_type": "code",
   "execution_count": 49,
   "metadata": {},
   "outputs": [],
   "source": [
    "from sklearn.model_selection import GridSearchCV\n",
    "\n",
    "param_grid = {\n",
    "    'bootstrap': [True, False],\n",
    "    'max_depth': [15, 25, 30, 35],\n",
    "    'n_estimators': [100, 250, 500]}\n",
    "#rf = RandomForestClassifier(random_state = 42)\n",
    "rf = RandomForestClassifier()\n"
   ]
  },
  {
   "cell_type": "code",
   "execution_count": 50,
   "metadata": {},
   "outputs": [
    {
     "data": {
      "text/plain": [
       "GridSearchCV(estimator=RandomForestClassifier(),\n",
       "             param_grid={'bootstrap': [True, False],\n",
       "                         'max_depth': [15, 25, 30, 35],\n",
       "                         'n_estimators': [100, 250, 500]})"
      ]
     },
     "execution_count": 50,
     "metadata": {},
     "output_type": "execute_result"
    }
   ],
   "source": [
    "# Grid search cv\n",
    "grid_search = GridSearchCV(estimator = rf, param_grid = param_grid)\n",
    "grid_search.fit(x_train_, y_train_)"
   ]
  },
  {
   "cell_type": "code",
   "execution_count": 51,
   "metadata": {},
   "outputs": [
    {
     "data": {
      "text/plain": [
       "{'bootstrap': False, 'max_depth': 35, 'n_estimators': 500}"
      ]
     },
     "execution_count": 51,
     "metadata": {},
     "output_type": "execute_result"
    }
   ],
   "source": [
    "grid_search.best_params_"
   ]
  },
  {
   "cell_type": "code",
   "execution_count": 52,
   "metadata": {},
   "outputs": [],
   "source": [
    "pred = grid_search.predict(x_test_)"
   ]
  },
  {
   "cell_type": "code",
   "execution_count": 53,
   "metadata": {},
   "outputs": [
    {
     "name": "stdout",
     "output_type": "stream",
     "text": [
      "f1 score = 0.8425720620842572\n",
      "accuracy = 0.8489361702127659\n"
     ]
    }
   ],
   "source": [
    "print(f\"f1 score = {f1_score(y_test_, pred)}\")\n",
    "print(f\"accuracy = {accuracy_score(y_test_, pred)}\")"
   ]
  },
  {
   "cell_type": "code",
   "execution_count": null,
   "metadata": {},
   "outputs": [],
   "source": []
  }
 ],
 "metadata": {
  "kernelspec": {
   "display_name": "Python 3",
   "language": "python",
   "name": "python3"
  },
  "language_info": {
   "codemirror_mode": {
    "name": "ipython",
    "version": 3
   },
   "file_extension": ".py",
   "mimetype": "text/x-python",
   "name": "python",
   "nbconvert_exporter": "python",
   "pygments_lexer": "ipython3",
   "version": "3.7.6"
  }
 },
 "nbformat": 4,
 "nbformat_minor": 4
}
